{
  "cells": [
    {
      "cell_type": "code",
      "metadata": {},
      "source": [
        "from utils import *\n",
        "\n",
        "import matplotlib.pyplot as plt\n",
        "\n",
        "data = pd.read_csv('mem100.csv', delimiter = \",\")#.drop([136])\n",
        "\n",
        "cmap = { 'wo' : 'red', 'ro' : 'blue', 'rw': 'green' }\n",
        "#Mem100 Mem80 Mem75 Mem60 Mem50 MemMix\n",
        "def plot_by_mode(n, p, a):\n",
        "    df = mode(n, pattern(p, access(a, data))).sort_values('ws')\n",
        "\n",
        "    fig = plt.figure()\n",
        "    ax = fig.add_subplot()\n",
        "    ax.set_title('{}/{} {}'.format(n, p ,a))\n",
        "\n",
        "    for ratio in ['ro', 'rw', 'wo']:\n",
        "        d = rw_ratio(ratio, df)[['ws','ltc','ltc_d']]\n",
        "        ax.plot(d['ws']/1000, d['ltc'], label=ratio, color=cmap[ratio])\n",
        "        ax.plot(d['ws']/1000, d['ltc_d'], linestyle=':', color=cmap[ratio], label=\"\u0394\")\n",
        "\n",
        "    ax.legend(loc='upper left')\n",
        "    ax.set_xlabel('Working set (GB)')\n",
        "    ax.set_ylabel('Latency (ns)')\n",
        "    ax.set_ylim([0, 300])\n",
        "    ax.set_xlim([32, 70])\n",
        "    return df\n",
        "\n",
        "for n in ['MemMixApp50', 'MemOnly50']:#, 'MemMix50'  'Mem75', 'Mem60', 'Mem50', 'Mem24']:\n",
        "    df = plot_by_mode(n, 'uniform', 'touch')\n"
      ],
      "outputs": [],
      "execution_count": null
    }
  ],
  "metadata": {
    "anaconda-cloud": {},
    "kernelspec": {
      "display_name": "Python 3",
      "language": "python",
      "name": "python3"
    },
    "language_info": {
      "codemirror_mode": {
        "name": "ipython",
        "version": 3
      },
      "file_extension": ".py",
      "mimetype": "text/x-python",
      "name": "python",
      "nbconvert_exporter": "python",
      "pygments_lexer": "ipython3",
      "version": "3.6.1"
    }
  },
  "nbformat": 4,
  "nbformat_minor": 4
}