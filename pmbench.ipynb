{
  "cells": [
    {
      "cell_type": "code",
      "metadata": {},
      "source": [
        "import pandas as pd\n",
        "import matplotlib.pyplot as plt\n",
        "import numpy as np\n",
        "\n",
        "def concat(fields, fd):\n",
        "    return fd[fields].T.values\n",
        "\n",
        "def pool(name, df):\n",
        "     return df[df['pool'] == name].drop(columns=[\"pool\"])\n",
        "\n",
        "def rw_ratio(ratio, df):\n",
        "     return df[df['rw_ratio'] == ratio].drop(columns=[\"rw_ratio\"])\n",
        "\n",
        "def ws(v, df):\n",
        "    return df[df['ws'] == v].drop(columns=['ws'])\n",
        "\n",
        "def threads(i, df):\n",
        "    return df[df['threads'] == i].drop(columns=['threads'])\n",
        "\n",
        "def merge_ratios(fd, ratios=[\n",
        "            (100, 'ro'),\n",
        "            (66, 'rrw'),\n",
        "            (50, 'rw'),\n",
        "            (33, 'rww'),\n",
        "            (0, 'wo')]):\n",
        "    m = fd[\"threads\"]#.drop_duplicates()\n",
        "    for r, n in ratios:\n",
        "        t = rw_ratio(r, fd).rename(columns={'ltc':n,'ltc_d':n+'_d'})\n",
        "        m = pd.merge(m, t)\n",
        "    return m\n",
        "\n",
        "def plot_ratios(fd, axs):\n",
        "    fd = merge_ratios(fd)\n",
        "    fd.plot(\n",
        "        ax=axs,\n",
        "        x='threads',\n",
        "        ylabel='latency (ns)',\n",
        "        y=['ro','rrw','rw','rww','wo'],\n",
        "        yerr=concat(['ro_d','rrw_d','rw_d','rww_d','wo_d'], fd))\n"
      ],
      "outputs": [],
      "execution_count": null
    },
    {
      "cell_type": "code",
      "metadata": {},
      "source": [
        "data = pd.read_csv('pmbench.csv', delimiter = \",\")\n",
        "data"
      ],
      "outputs": [],
      "execution_count": null
    },
    {
      "cell_type": "code",
      "metadata": {},
      "source": [
        "apps = data[\n",
        "    (data[\"offset\"] == \"uniform\") &\n",
        "    (data['pattern'] == \"random\") &\n",
        "    (data['mode'] == \"App\") &\n",
        "    True].drop(columns=[\"offset\",\"pattern\",\"mode\",\"sz\",\"ws\",\"date\"])\n",
        "\n",
        "apps_fsdax = pool('fsdax', apps)\n",
        "apps_ram_l = pool('ram_l', apps)\n",
        "apps_ram_r = pool('ram_r', apps)\n",
        "apps_pm_r  = pool('pm_r',  apps)\n",
        "apps_pm_l  = pool('pm_l',  apps)"
      ],
      "outputs": [],
      "execution_count": null
    },
    {
      "cell_type": "code",
      "metadata": {},
      "source": [
        "fig = plt.figure(figsize=(20,15))\n",
        "for v, n, i in [\n",
        "        (apps_pm_l, \"Apps PM local\", 1),\n",
        "        (apps_fsdax, \"Apps fsdax (local)\", 2),\n",
        "        (apps_pm_r, \"Apps PM rmote\", 3),\n",
        "        (apps_ram_l, \"Apps RAM local\", 4),\n",
        "        (apps_ram_r, \"Apps RAM remote\", 6)]:\n",
        "    ax = fig.add_subplot(2, 3, i)\n",
        "    ax.set_title(n)\n",
        "    plot_ratios(v, ax)"
      ],
      "outputs": [],
      "execution_count": null
    },
    {
      "cell_type": "code",
      "metadata": {},
      "source": [
        "\n",
        "mem100 = data[\n",
        "    (data['mode'] == 'Mem100') &\n",
        "    True].drop(columns = [\n",
        "        'date',\n",
        "        'pool',\n",
        "        'offset',\n",
        "        'pattern',\n",
        "        'mode',\n",
        "        'sz',\n",
        "        ]).sort_values([\"threads\",\"ws\"])\n",
        "\n",
        "def plot_mem_by_thread():\n",
        "    df = merge_ratios(ws(128, mem100))\n",
        "    fig = plt.figure()\n",
        "    ax = fig.add_subplot(1,1,1)\n",
        "    ax.set_title('Mem100: access latency by thread number')\n",
        "    df.plot(x = 'threads',\n",
        "            y = ['ro', 'rw', 'wo'],\n",
        "            yerr=concat(['ro_d', 'rw_d', 'wo_d'], df),\n",
        "            ylabel = 'latency (ns)',\n",
        "            ax = ax)\n",
        "\n",
        "plot_mem_by_thread()"
      ],
      "outputs": [],
      "execution_count": null
    },
    {
      "cell_type": "code",
      "metadata": {},
      "source": [
        "\n",
        "def plot_mem_latency_by_ws(n, ax):\n",
        "    threads(n, merge_ratios(mem100)).plot(ax = ax, x='ws', y=['ro','rw','wo'])\n",
        "\n",
        "#def main():\n",
        "#    fig = plt.figure()\n",
        "#    for n, i in [(1, 1), (2, 2), (4, 3), (8, 4)]:\n",
        "#        ax = fig.add_subplot(2,2,i)\n",
        "#        plot_mem_latency_by_ws(n, ax)\n",
        "\n",
        "threads(1, rw_ratio(0, mem100)).plot(x='ws', y='ltc')\n",
        "\n",
        "#d = rw_ratio(0, mem100)\n",
        "#\n",
        "#fig = plt.figure()\n",
        "#ax = fig.add_subplot()\n",
        "#cb = ax.scatter(d['ws'], d['ltc'] , c=d['threads'])\n",
        "#plt.colorbar(cb)\n",
        "#\n",
        "#def plot_thread(n, df):\n",
        "#    v = threads(n, df)\n",
        "#    ax.plot(v['ws'], v['ltc'], c=cb.to_rgba(n))\n",
        "\n",
        "a = ws(32768, rw_ratio(0, mem100)).plot(x='threads', y='ltc', yerr='ltc_d')\n",
        "a.set_xticks([2,4,6,8,10,16,32])\n",
        "\n",
        "#plot_ratios(mem100)\n"
      ],
      "outputs": [],
      "execution_count": null
    }
  ],
  "metadata": {
    "anaconda-cloud": {},
    "kernelspec": {
      "display_name": "Python 3",
      "language": "python",
      "name": "python3"
    },
    "language_info": {
      "codemirror_mode": {
        "name": "ipython",
        "version": 3
      },
      "file_extension": ".py",
      "mimetype": "text/x-python",
      "name": "python",
      "nbconvert_exporter": "python",
      "pygments_lexer": "ipython3",
      "version": "3.6.1"
    }
  },
  "nbformat": 4,
  "nbformat_minor": 4
}