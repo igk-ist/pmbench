{
  "cells": [
    {
      "cell_type": "markdown",
      "metadata": {},
      "source": [
        "# Hardware Details \n",
        "```\n",
        "$ sudo ipmctl show -topology\n",
        " DimmID | MemoryType                  | Capacity    | PhysicalID| DeviceLocator\n",
        "================================================================================\n",
        " 0x0001 | Logical Non-Volatile Device | 126.375 GiB | 0x0032    | DIMM_P0_A1\n",
        " 0x1001 | Logical Non-Volatile Device | 126.375 GiB | 0x0044    | DIMM_P1_G1\n",
        " N/A    | DDR4                        | 16.000 GiB  | 0x0030    | DIMM_P0_A0\n",
        " N/A    | DDR4                        | 16.000 GiB  | 0x0034    | DIMM_P0_B0\n",
        " N/A    | DDR4                        | 16.000 GiB  | 0x0042    | DIMM_P1_G0\n",
        " N/A    | DDR4                        | 16.000 GiB  | 0x0046    | DIMM_P1_H0\n",
        " ```\n",
        "---- \n",
        " \n",
        " ```\n",
        " ------------- Machine information -------------\n",
        "CPU model name: Intel(R) Xeon(R) Gold 5218 CPU @ 2.30GHz\n",
        "rdtsc/perfc frequency: 2300000 K cycles per second\n",
        " -- TLB info --\n",
        "DTLB: 4 entries for 1GB, 4-way\n",
        "DTLB: 64 entries for 4KB, 4-way\n",
        "ITLB: 8 entries for 2MB or 4MB, full\n",
        "ITLB: 64 entries for 4KB, 8-way\n",
        "STLB: 1536 entries for 4KB and 2MB, 6-way, shared 2nd level. Also 16 entries for 1GB, 4-way\n",
        " -- Cache info --\n",
        "DCACHE: lvl 1, 32 KB, sets:64, linesz:64, part:1, ways:8\n",
        "ICACHE: lvl 1, 32 KB, sets:64, linesz:64, part:1, ways:8\n",
        "CACHE: lvl 2, 1024 KB, sets:1024, linesz:64, part:1, ways:16\n",
        "CACHE: lvl 3, 22528 KB, sets:32768, linesz:64, part:1, ways:11\n",
        "```\n",
        "----\n",
        "\n",
        "#  Baseline Latencies\n",
        "\n",
        "```\n",
        "| Mode        | Read latency           | Write Latency           | Read-Write Latency |\n",
        "| ----------- | -----------------------| ----------------------- | ------------------ |\n",
        "| RAM (local) | 39ns (slowly degrades) |          32ns           |       70           |\n",
        "| PM (local)  | 39ns (slowly degrades) | 179ns / 1us (3+ threads)|       244          |\n",
        "```"
      ]
    },
    {
      "cell_type": "code",
      "metadata": {},
      "source": [
        "import pandas as pd\n",
        "import matplotlib.pyplot as plt\n",
        "import numpy as np\n",
        "\n",
        "def concat(fields, fd):\n",
        "    return fd[fields].T.values\n",
        "\n",
        "def pool(name, df):\n",
        "     return df[df['pool'] == name].drop(columns=[\"pool\"])\n",
        "\n",
        "def rw_ratio(ratio, df):\n",
        "    if type(ratio) == str:\n",
        "        if   ratio == 'wo' : v = 0\n",
        "        elif ratio == 'rww': v = 33\n",
        "        elif ratio == 'rw' : v = 50\n",
        "        elif ratio == 'rrw': v = 66\n",
        "        elif ratio == 'ro' : v = 100\n",
        "        else: raise Exception('Unknown ratio \"{}\"'.format(ratio))\n",
        "    else:\n",
        "        v = ratio\n",
        "    return df[df['rw_ratio'] == v].drop(columns=[\"rw_ratio\"])\n",
        "\n",
        "def ws(v, df):\n",
        "    return df[df['ws'] == v].drop(columns=['ws'])\n",
        "\n",
        "def threads(i, df):\n",
        "    return df[df['threads'] == i].drop(columns=['threads'])\n",
        "\n",
        "def merge_ratios(fd, ratios=['ro','rrw', 'rw', 'rww', 'wo']):\n",
        "    m = fd[\"threads\"].drop_duplicates()\n",
        "    for n in ratios:\n",
        "        t = rw_ratio(n, fd).rename(columns={'ltc':n,'ltc_d':n+'_d'})\n",
        "        m = pd.merge(m, t)\n",
        "    return m"
      ],
      "outputs": [],
      "execution_count": null
    },
    {
      "cell_type": "code",
      "metadata": {},
      "source": [
        "data = pd.read_csv('pmbench.csv', delimiter = \",\")\n",
        "data"
      ],
      "outputs": [],
      "execution_count": null
    },
    {
      "cell_type": "markdown",
      "metadata": {},
      "source": [
        "# AppMode plots\n",
        "\n",
        "Next plots shows latency caracteristics for diiferent application mode setups.\n",
        "Several key points:\n",
        "- 'remote'/'local' denotes used _NUMA_ memory node;\n",
        "- all threads were binded to on node;\n",
        "- _fsdax_ plot shows OS overhead for _DAX_ enabled file system;\n",
        "- vertical bars show latency difference for different threads in particular test run."
      ]
    },
    {
      "cell_type": "code",
      "metadata": {},
      "source": [
        "apps = data[\n",
        "    (data[\"offset\"] == \"random\") &\n",
        "    (data['pattern'] == \"uniform\") &\n",
        "    (data['mode'] == \"App\") &\n",
        "    True].drop(columns=[\"offset\",\"pattern\",\"mode\",\"sz\",\"ws\",\"date\"])\n",
        "\n",
        "apps_fsdax = pool('fsdax', apps)\n",
        "apps_ram_l = pool('ram_l', apps)\n",
        "apps_ram_r = pool('ram_r', apps)\n",
        "apps_pm_r  = pool('pm_r',  apps)\n",
        "apps_pm_l  = pool('pm_l',  apps)"
      ],
      "outputs": [],
      "execution_count": null
    },
    {
      "cell_type": "code",
      "metadata": {},
      "source": [
        "fig = plt.figure(figsize=(20,15))\n",
        "for v, n, i in [\n",
        "        (apps_pm_l, \"Apps PM local\", 1),\n",
        "        (apps_fsdax, \"Apps fsdax (local)\", 2),\n",
        "        (apps_pm_r, \"Apps PM rmote\", 3),\n",
        "        (apps_ram_l, \"Apps RAM local\", 4),\n",
        "        (apps_ram_r, \"Apps RAM remote\", 6)]:\n",
        "    ax = fig.add_subplot(2, 3, i)\n",
        "    ax.set_title(n)\n",
        "    fd = merge_ratios(v)\n",
        "    labels=['ro','rrw','rw','rww','wo']\n",
        "    fd.plot(\n",
        "        ax=ax,\n",
        "        x='threads',\n",
        "        ylabel='latency (ns)',\n",
        "        y=labels,\n",
        "        yerr=concat([x + '_d' for x in labels], fd))\n",
        "    #fd.drop(columns=[x + '_d' for x in labels])\n",
        "    #ax.table([[f for f in row] for row in fd.iloc])"
      ],
      "outputs": [],
      "execution_count": null
    },
    {
      "cell_type": "code",
      "metadata": {},
      "source": [
        "merge_ratios(apps_ram_l, ['ro', 'wo', 'rw'])"
      ],
      "outputs": [],
      "execution_count": null
    },
    {
      "cell_type": "code",
      "metadata": {},
      "source": [
        "merge_ratios(apps_pm_l, ['ro', 'wo', 'rw'])"
      ],
      "outputs": [],
      "execution_count": null
    },
    {
      "cell_type": "markdown",
      "metadata": {},
      "source": [
        "## Block size matters"
      ]
    },
    {
      "cell_type": "markdown",
      "metadata": {},
      "source": [
        "# Full memory mode\n",
        "Next few plots present various latency characteristics for memory mode"
      ]
    },
    {
      "cell_type": "code",
      "metadata": {},
      "source": [
        "mem100 = data[\n",
        "    (data['mode'] == 'Mem100') &\n",
        "    (data['date'].str.contains('May  2')) &\n",
        "    True].drop(columns = [\n",
        "        'pool',\n",
        "        'offset',\n",
        "        'pattern',\n",
        "        'mode',\n",
        "        'sz',\n",
        "        ]).sort_values([\"threads\",\"ws\"])"
      ],
      "outputs": [],
      "execution_count": null
    },
    {
      "cell_type": "code",
      "metadata": {},
      "source": [
        "i = 0\n",
        "fig = plt.figure(figsize=(16,8))\n",
        "fig.suptitle('Mem100: Latency vs Working size vs Threads Scatter', fontsize=16)\n",
        "for r, nm in [(50, 'Read-Write'), (0, 'Write Only')]:\n",
        "    i += 1\n",
        "    d = rw_ratio(r, mem100)\n",
        "    ax = fig.add_subplot(1, 2, i, projection='3d')\n",
        "    ax.scatter3D(d['threads'], d['ws'], d['ltc'])\n",
        "    ax.set_title(nm)\n",
        "    ax.set_xlabel('Threads (n)')\n",
        "    ax.set_ylabel('Working set (Mb)')\n",
        "    ax.set_zlabel('Latency (ns)')"
      ],
      "outputs": [],
      "execution_count": null
    },
    {
      "cell_type": "markdown",
      "metadata": {},
      "source": [
        "## Read Write Saturation\n",
        "Next two plots aimed to find thread sturation for constant wokring set.\n",
        "Left one contain working set fitting into the DRAM, right one doesn't fit.\n",
        "High error bars doesn't look obvious."
      ]
    },
    {
      "cell_type": "code",
      "metadata": {},
      "source": [
        "def plot_mem100_wsz(wsz, ax):\n",
        "    ax.set_title('Mem100: access latency by thread number ({} Mb working set)'.format(wsz))\n",
        "    ax.set_xticks([1, 4, 8, 12, 16, 24, 32, 36])\n",
        "    for r, n, c in [ (0, 'Write Only', 'Orange'), (50, 'Read-Write', 'DarkBlue')]:\n",
        "        ws(wsz, rw_ratio(r, mem100)) \\\n",
        "            .plot.scatter(\n",
        "                ax = ax,\n",
        "                x = 'threads',\n",
        "                y = 'ltc',\n",
        "                yerr = 'ltc_d',\n",
        "                ylabel = 'latency (ns)',\n",
        "                c = c, \n",
        "                label = n,\n",
        "            )\n",
        "    ax.legend(loc='upper left')\n",
        "        \n",
        "fig = plt.figure(figsize=(16,8))\n",
        "fig.suptitle('Threads saturation', fontsize=16)\n",
        "ax = fig.subplots(1, 2)\n",
        "plot_mem100_wsz(1024, ax[0])\n",
        "plot_mem100_wsz(16360, ax[1])"
      ],
      "outputs": [],
      "execution_count": null
    },
    {
      "cell_type": "markdown",
      "metadata": {},
      "source": [
        "# Latency from working set\n",
        "Next one tries to nail down edge of performance drop with growing working set.\n",
        "\n",
        "For some reason I can't see this drop for one thread run.\n",
        "\n",
        "Right plot witnesess 4Gb threshold visible when we switch thread number."
      ]
    },
    {
      "cell_type": "code",
      "metadata": {},
      "source": [
        "mem100 = data[\n",
        "    (data['mode'] == 'Mem100') &\n",
        "    (~data['date'].str.contains('Apr 28 09')) & # extremely slow values, can't explain, let's just exclude for now\n",
        "    (~data['date'].str.contains('Apr 28 10')) &\n",
        "    True].drop(columns = [\n",
        "        'pool',\n",
        "        'offset',\n",
        "        'pattern',\n",
        "        'mode',\n",
        "        'sz',\n",
        "        ]).sort_values([\"threads\",\"ws\"])\n",
        "\n",
        "fig = plt.figure(figsize=(16,8))\n",
        "fig.suptitle('Latency from working set', fontsize=16)\n",
        "ax = fig.subplots(1, 2)\n",
        "for a in ax:\n",
        "    a.set_xticks([1024, 4*1024, 8*1024, 16*1024, 32*1024])\n",
        "\n",
        "ax[0].set_title('RW Latency for One Thread')\n",
        "ax[0].set_ylabel('latency (ns)')\n",
        "p = threads(1, rw_ratio(50, mem100)).plot(x='ws', y='ltc', yerr='ltc_d', ax=ax[0], label='ReadWrite', c='DarkBlue')\n",
        "p = threads(1, rw_ratio(0, mem100)).plot(x='ws', y='ltc', yerr='ltc_d', ax=ax[0],label='WriteOnly', c='Orange')\n",
        "t = ax[0].set_xlabel('Working set (Mb)')\n",
        "\n",
        "\n",
        "ax[1].set_title('Write Only Latency for several thrads')\n",
        "ax[1].set_xlim([1024, 15184])\n",
        "ax[1].set_ylim([0, 1024])\n",
        "p = threads(4, rw_ratio(0, mem100)).plot(x='ws', y='ltc', yerr='ltc_d', ax=ax[1], label='4 threads')\n",
        "p = threads(8, rw_ratio(0, mem100)).plot(x='ws', y='ltc', yerr='ltc_d', ax=ax[1], label='8 threads')\n",
        "p = threads(16, rw_ratio(0, mem100)).plot(x='ws', y='ltc', yerr='ltc_d', ax=ax[1], label='16 threads')\n",
        "p = threads(24, rw_ratio(0, mem100)).plot(x='ws', y='ltc', yerr='ltc_d', ax=ax[1], label='24 threads')\n",
        "p = threads(32, rw_ratio(0, mem100)).plot(x='ws', y='ltc', yerr='ltc_d', ax=ax[1], label='32 threads')\n",
        "t = ax[1].set_xlabel('Working set (Mb)')\n"
      ],
      "outputs": [],
      "execution_count": null
    }
  ],
  "metadata": {
    "anaconda-cloud": {},
    "kernelspec": {
      "display_name": "Python 3",
      "language": "python",
      "name": "python3"
    },
    "language_info": {
      "codemirror_mode": {
        "name": "ipython",
        "version": 3
      },
      "file_extension": ".py",
      "mimetype": "text/x-python",
      "name": "python",
      "nbconvert_exporter": "python",
      "pygments_lexer": "ipython3",
      "version": "3.6.1"
    }
  },
  "nbformat": 4,
  "nbformat_minor": 4
}